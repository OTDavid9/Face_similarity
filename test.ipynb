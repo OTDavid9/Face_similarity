{
 "cells": [
  {
   "cell_type": "code",
   "execution_count": 15,
   "id": "aa13e812",
   "metadata": {},
   "outputs": [
    {
     "name": "stdout",
     "output_type": "stream",
     "text": [
      "Packages installed !!\n"
     ]
    }
   ],
   "source": [
    "import pandas as pd \n",
    "import numpy as np\n",
    "print(\"Packages installed !!\")"
   ]
  },
  {
   "cell_type": "code",
   "execution_count": 2,
   "id": "a4316319",
   "metadata": {},
   "outputs": [
    {
     "data": {
      "text/html": [
       "<div>\n",
       "<style scoped>\n",
       "    .dataframe tbody tr th:only-of-type {\n",
       "        vertical-align: middle;\n",
       "    }\n",
       "\n",
       "    .dataframe tbody tr th {\n",
       "        vertical-align: top;\n",
       "    }\n",
       "\n",
       "    .dataframe thead th {\n",
       "        text-align: right;\n",
       "    }\n",
       "</style>\n",
       "<table border=\"1\" class=\"dataframe\">\n",
       "  <thead>\n",
       "    <tr style=\"text-align: right;\">\n",
       "      <th></th>\n",
       "      <th>ImageBase64</th>\n",
       "      <th>BVN</th>\n",
       "      <th>FaceEmbedding</th>\n",
       "    </tr>\n",
       "  </thead>\n",
       "  <tbody>\n",
       "    <tr>\n",
       "      <th>0</th>\n",
       "      <td>/9j/4AAQSkZJRgABAgAAAQABAAD/2wBDAAgGBgcGBQgHBw...</td>\n",
       "      <td>22152573865.0</td>\n",
       "      <td>[-0.02843066304922104, -0.01326816901564598, -...</td>\n",
       "    </tr>\n",
       "    <tr>\n",
       "      <th>1</th>\n",
       "      <td>/9j/4AAQSkZJRgABAgAAAQABAAD/2wBDAAgGBgcGBQgHBw...</td>\n",
       "      <td>22179911578.0</td>\n",
       "      <td>[0.004583925940096378, -0.03337887302041054, -...</td>\n",
       "    </tr>\n",
       "    <tr>\n",
       "      <th>2</th>\n",
       "      <td>/9j/4AAQSkZJRgABAgAAAQABAAD/2wBDAAgGBgcGBQgHBw...</td>\n",
       "      <td>22390481106.0</td>\n",
       "      <td>[0.07786522060632706, 0.06092189624905586, 0.0...</td>\n",
       "    </tr>\n",
       "    <tr>\n",
       "      <th>3</th>\n",
       "      <td>/9j/4AAQSkZJRgABAgAAAQABAAD/2wBDAAgGBgcGBQgHBw...</td>\n",
       "      <td>22685718313.0</td>\n",
       "      <td>[0.043489448726177216, 0.005627396050840616, -...</td>\n",
       "    </tr>\n",
       "    <tr>\n",
       "      <th>4</th>\n",
       "      <td>/9j/4AAQSkZJRgABAgAAAQABAAD/2wBDAAgGBgcGBQgHBw...</td>\n",
       "      <td>22144693582.0</td>\n",
       "      <td>[0.019273987039923668, 0.06108105182647705, 0....</td>\n",
       "    </tr>\n",
       "  </tbody>\n",
       "</table>\n",
       "</div>"
      ],
      "text/plain": [
       "                                         ImageBase64            BVN  \\\n",
       "0  /9j/4AAQSkZJRgABAgAAAQABAAD/2wBDAAgGBgcGBQgHBw...  22152573865.0   \n",
       "1  /9j/4AAQSkZJRgABAgAAAQABAAD/2wBDAAgGBgcGBQgHBw...  22179911578.0   \n",
       "2  /9j/4AAQSkZJRgABAgAAAQABAAD/2wBDAAgGBgcGBQgHBw...  22390481106.0   \n",
       "3  /9j/4AAQSkZJRgABAgAAAQABAAD/2wBDAAgGBgcGBQgHBw...  22685718313.0   \n",
       "4  /9j/4AAQSkZJRgABAgAAAQABAAD/2wBDAAgGBgcGBQgHBw...  22144693582.0   \n",
       "\n",
       "                                       FaceEmbedding  \n",
       "0  [-0.02843066304922104, -0.01326816901564598, -...  \n",
       "1  [0.004583925940096378, -0.03337887302041054, -...  \n",
       "2  [0.07786522060632706, 0.06092189624905586, 0.0...  \n",
       "3  [0.043489448726177216, 0.005627396050840616, -...  \n",
       "4  [0.019273987039923668, 0.06108105182647705, 0....  "
      ]
     },
     "execution_count": 2,
     "metadata": {},
     "output_type": "execute_result"
    }
   ],
   "source": [
    "df_train = pd.read_csv(\"training_data.csv\", dtype=str)\n",
    "df_output = pd.read_csv(\"output_with_faces.csv\", dtype=str)\n",
    "df_output.head()"
   ]
  },
  {
   "cell_type": "code",
   "execution_count": null,
   "id": "b5377594",
   "metadata": {},
   "outputs": [
    {
     "data": {
      "text/plain": [
       "Series([], Name: FaceEmbedding, dtype: object)"
      ]
     },
     "execution_count": 24,
     "metadata": {},
     "output_type": "execute_result"
    }
   ],
   "source": [
    "user_Embedding = df_output[df_output['BVN']=='22426489258.0']['FaceEmbedding']\n",
    "user_Embedding "
   ]
  },
  {
   "cell_type": "code",
   "execution_count": null,
   "id": "f11206a8",
   "metadata": {},
   "outputs": [
    {
     "data": {
      "text/plain": [
       "pandas.core.series.Series"
      ]
     },
     "execution_count": 14,
     "metadata": {},
     "output_type": "execute_result"
    }
   ],
   "source": [
    "\"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\""
   ]
  },
  {
   "cell_type": "code",
   "execution_count": 18,
   "id": "2dba5847",
   "metadata": {},
   "outputs": [
    {
     "data": {
      "text/plain": [
       "(394, 3)"
      ]
     },
     "execution_count": 18,
     "metadata": {},
     "output_type": "execute_result"
    }
   ],
   "source": [
    "df_output.shape"
   ]
  },
  {
   "cell_type": "code",
   "execution_count": null,
   "id": "140d9586",
   "metadata": {},
   "outputs": [],
   "source": []
  }
 ],
 "metadata": {
  "kernelspec": {
   "display_name": "Python 3",
   "language": "python",
   "name": "python3"
  },
  "language_info": {
   "codemirror_mode": {
    "name": "ipython",
    "version": 3
   },
   "file_extension": ".py",
   "mimetype": "text/x-python",
   "name": "python",
   "nbconvert_exporter": "python",
   "pygments_lexer": "ipython3",
   "version": "3.13.3"
  }
 },
 "nbformat": 4,
 "nbformat_minor": 5
}
